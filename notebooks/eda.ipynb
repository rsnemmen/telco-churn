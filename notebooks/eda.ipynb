{
 "cells": [
  {
   "cell_type": "markdown",
   "id": "e3b74b1f-6ede-4c27-a6b1-fe0688fc4dbc",
   "metadata": {},
   "source": [
    "Telecommunications customer churn\n",
    "====================================\n",
    "\n",
    "# Exploratory data analysis\n",
    "\n",
    "Inspired by [this Kaggle dataset](https://www.kaggle.com/datasets/blastchar/telco-customer-churn/data). The actual data I used was obtained from [IBM](https://accelerator.ca.analytics.ibm.com/bi/?perspective=authoring&pathRef=.public_folders%2FIBM%2BAccelerator%2BCatalog%2FContent%2FDAT00148&id=i9710CF25EF75468D95FFFC7D57D45204&objRef=i9710CF25EF75468D95FFFC7D57D45204&action=run&format=HTML&cmPropStr=%7B%22id%22%3A%22i9710CF25EF75468D95FFFC7D57D45204%22%2C%22type%22%3A%22reportView%22%2C%22defaultName%22%3A%22DAT00148%22%2C%22permissions%22%3A%5B%22execute%22%2C%22read%22%2C%22traverse%22%5D%7D), updated 4/2023 (also useful for reference about the columns). \n",
    "\n",
    "The Telco customer churn data contains information about a fictional telco company that provided home phone and Internet services to 7043 customers in California in Q3. It indicates which customers have left, stayed, or signed up for their service. \n",
    "\n",
    "The churn column indicates whether or not the customer left within the last month. Other columns include gender, dependents, monthly charges, and many with information about the types of services each customer has. Multiple important demographics are included for each customer, as well as a Satisfaction Score, Churn Score, and Customer Lifetime Value (CLTV) index."
   ]
  },
  {
   "cell_type": "code",
   "execution_count": 3,
   "id": "470ffd62-ca83-4e7a-bad7-4b0e88c1e572",
   "metadata": {},
   "outputs": [],
   "source": [
    "%matplotlib inline\n",
    "import numpy as np\n",
    "import matplotlib.pyplot as plt"
   ]
  },
  {
   "cell_type": "markdown",
   "id": "787be79d-5deb-4e60-9880-f1e52bcd3fae",
   "metadata": {},
   "source": [
    "The advantage of `Path` below is that it comes with cross-platform compatibility"
   ]
  },
  {
   "cell_type": "code",
   "execution_count": 30,
   "id": "61a35d47-a4c8-40a1-b162-0a10d5202f09",
   "metadata": {},
   "outputs": [],
   "source": [
    "import pandas as pd\n",
    "import pathlib\n",
    "import math\n",
    "import seaborn as sns"
   ]
  },
  {
   "cell_type": "markdown",
   "id": "01c3a720-1f4a-47f4-ac92-55ac61be7389",
   "metadata": {},
   "source": [
    "## 1. Big picture: Frame the problem\n",
    "\n",
    "\n",
    "\n",
    "### <span style=\"background-color: lightblue;\">From the business side</span>\n",
    "\n",
    "#### What is the business objective?💰\n",
    "\n",
    "- [x] Understand the factors driving customer churn\n",
    "- [x] Predict:\n",
    "    - which customers are more likely to churn\n",
    "    - the reason for churning\n",
    "- [ ] Come up with our own versions of: (TODO❌)  \n",
    "    - churn score\n",
    "    - CLTV\n",
    "    - Compare these with proprietary values\n",
    "\n",
    "#### What does the current solution look like? \n",
    "\n",
    "IBM Analytics computed churn score (likelihood of customer churning) and CLTV (how valuable the customer is). However, the formulas for computing these scores are proprietary.\n",
    "\n",
    "### <span style=\"background-color: lightgreen;\">ML specifics</span>\n",
    "\n",
    "#### What kind of ML method will we use? \n",
    "\n",
    "- supervised\n",
    "- classification\n",
    "- batch\n",
    "\n",
    "### <span style=\"background-color: lightsalmon;\">Select a performance measure (cost function)</span>\n",
    "\n",
    "Accuracy"
   ]
  },
  {
   "cell_type": "markdown",
   "id": "304ceecd-ee07-47f0-91b2-f5cbfae8f90b",
   "metadata": {},
   "source": [
    "### Notes📝\n",
    "\n",
    "#### Intuition\n",
    "\n",
    "Before looking at the data, let's think about the problem. What could be driving customer churn in a telecom company?\n",
    "\n",
    "Some of the primary reasons could be:\n",
    "\n",
    "- competition: better alternative\n",
    "- unhappy with service: too expensive? bad quality? bad customer service?\n",
    "- deceased customer? (should be a minor factor)\n",
    "\n",
    "#### Data-driven questions\n",
    "\n",
    "- Is churn concentrated in any specific region? If so, is it correlated with specific reasons for leaving?\n",
    "- Is churn correlated with specific plans and satisfaction scores?\n",
    "- What customers should be monitored for likelihood of churning?"
   ]
  },
  {
   "cell_type": "markdown",
   "id": "d8fecd36-c2cf-480f-87a3-5742ef5c5f9c",
   "metadata": {},
   "source": [
    "## 2. Import dataset"
   ]
  },
  {
   "cell_type": "markdown",
   "id": "43fbb368-dd02-4715-9528-2dbc9a3bca06",
   "metadata": {},
   "source": [
    "### Read files"
   ]
  },
  {
   "cell_type": "markdown",
   "id": "33250b28-0cff-45f5-be2b-49b34c2051e8",
   "metadata": {},
   "source": [
    "Plans, dependents, charges"
   ]
  },
  {
   "cell_type": "code",
   "execution_count": 5,
   "id": "c3c1ccdc-d8f9-4cfb-baae-548057443aeb",
   "metadata": {},
   "outputs": [],
   "source": [
    "plans=pd.read_excel(pathlib.Path('../data/services.xlsx'))"
   ]
  },
  {
   "cell_type": "markdown",
   "id": "2f4d9063-24b7-4498-98ef-dc44e7169b26",
   "metadata": {},
   "source": [
    "Churn reason, category and satisfaction score"
   ]
  },
  {
   "cell_type": "code",
   "execution_count": 6,
   "id": "50d9b41e-356d-4530-9187-091d2ced2d5d",
   "metadata": {},
   "outputs": [],
   "source": [
    "status=pd.read_excel(pathlib.Path('../data/churn_status.xlsx'))"
   ]
  },
  {
   "cell_type": "markdown",
   "id": "5a32400b-dffa-419d-850e-71c1c1ebc7de",
   "metadata": {},
   "source": [
    "Location"
   ]
  },
  {
   "cell_type": "code",
   "execution_count": 7,
   "id": "dad3bae2-a4c1-4e53-b5e5-51c7f620aeb3",
   "metadata": {},
   "outputs": [],
   "source": [
    "loc=pd.read_excel(pathlib.Path('../data/location.xlsx'))"
   ]
  },
  {
   "cell_type": "markdown",
   "id": "2e14c374-9580-49b0-ab31-b576189d173e",
   "metadata": {},
   "source": [
    "### Join\n",
    "\n",
    "Join all tables into one for convenience"
   ]
  },
  {
   "cell_type": "code",
   "execution_count": 8,
   "id": "a3839444-dd86-4fc3-a2b0-24618445f933",
   "metadata": {},
   "outputs": [],
   "source": [
    "tmp = pd.merge(plans, status, on='Customer ID', how='inner')  # 'inner' join by default\n",
    "df = pd.merge(tmp, loc, on='Customer ID', how='inner')"
   ]
  },
  {
   "cell_type": "code",
   "execution_count": 9,
   "id": "02eebe86-6c37-4812-a5c1-4d1e10c37b7b",
   "metadata": {},
   "outputs": [
    {
     "name": "stdout",
     "output_type": "stream",
     "text": [
      "<class 'pandas.core.frame.DataFrame'>\n",
      "RangeIndex: 7043 entries, 0 to 7042\n",
      "Data columns (total 51 columns):\n",
      " #   Column                             Non-Null Count  Dtype  \n",
      "---  ------                             --------------  -----  \n",
      " 0   Service ID                         7043 non-null   object \n",
      " 1   Customer ID                        7043 non-null   object \n",
      " 2   Count_x                            7043 non-null   int64  \n",
      " 3   Quarter_x                          7043 non-null   object \n",
      " 4   Referred a Friend                  7043 non-null   object \n",
      " 5   Number of Referrals                7043 non-null   int64  \n",
      " 6   Tenure in Months                   7043 non-null   int64  \n",
      " 7   Offer                              3166 non-null   object \n",
      " 8   Phone Service                      7043 non-null   object \n",
      " 9   Avg Monthly Long Distance Charges  7043 non-null   float64\n",
      " 10  Multiple Lines                     7043 non-null   object \n",
      " 11  Internet Service                   7043 non-null   object \n",
      " 12  Internet Type                      5517 non-null   object \n",
      " 13  Avg Monthly GB Download            7043 non-null   int64  \n",
      " 14  Online Security                    7043 non-null   object \n",
      " 15  Online Backup                      7043 non-null   object \n",
      " 16  Device Protection Plan             7043 non-null   object \n",
      " 17  Premium Tech Support               7043 non-null   object \n",
      " 18  Streaming TV                       7043 non-null   object \n",
      " 19  Streaming Movies                   7043 non-null   object \n",
      " 20  Streaming Music                    7043 non-null   object \n",
      " 21  Unlimited Data                     7043 non-null   object \n",
      " 22  Contract                           7043 non-null   object \n",
      " 23  Paperless Billing                  7043 non-null   object \n",
      " 24  Payment Method                     7043 non-null   object \n",
      " 25  Monthly Charge                     7043 non-null   float64\n",
      " 26  Total Charges                      7043 non-null   float64\n",
      " 27  Total Refunds                      7043 non-null   float64\n",
      " 28  Total Extra Data Charges           7043 non-null   int64  \n",
      " 29  Total Long Distance Charges        7043 non-null   float64\n",
      " 30  Total Revenue                      7043 non-null   float64\n",
      " 31  Status ID                          7043 non-null   object \n",
      " 32  Count_y                            7043 non-null   int64  \n",
      " 33  Quarter_y                          7043 non-null   object \n",
      " 34  Satisfaction Score                 7043 non-null   int64  \n",
      " 35  Customer Status                    7043 non-null   object \n",
      " 36  Churn Label                        7043 non-null   object \n",
      " 37  Churn Value                        7043 non-null   int64  \n",
      " 38  Churn Score                        7043 non-null   int64  \n",
      " 39  CLTV                               7043 non-null   int64  \n",
      " 40  Churn Category                     1869 non-null   object \n",
      " 41  Churn Reason                       1869 non-null   object \n",
      " 42  Location ID                        7043 non-null   object \n",
      " 43  Count                              7043 non-null   int64  \n",
      " 44  Country                            7043 non-null   object \n",
      " 45  State                              7043 non-null   object \n",
      " 46  City                               7043 non-null   object \n",
      " 47  Zip Code                           7043 non-null   int64  \n",
      " 48  Lat Long                           7043 non-null   object \n",
      " 49  Latitude                           7043 non-null   float64\n",
      " 50  Longitude                          7043 non-null   float64\n",
      "dtypes: float64(8), int64(12), object(31)\n",
      "memory usage: 2.7+ MB\n"
     ]
    }
   ],
   "source": [
    "df.info()"
   ]
  },
  {
   "cell_type": "code",
   "execution_count": 10,
   "id": "73ce7843-a0cd-48e3-8f4b-f20376314ebb",
   "metadata": {},
   "outputs": [
    {
     "data": {
      "text/html": [
       "<div>\n",
       "<style scoped>\n",
       "    .dataframe tbody tr th:only-of-type {\n",
       "        vertical-align: middle;\n",
       "    }\n",
       "\n",
       "    .dataframe tbody tr th {\n",
       "        vertical-align: top;\n",
       "    }\n",
       "\n",
       "    .dataframe thead th {\n",
       "        text-align: right;\n",
       "    }\n",
       "</style>\n",
       "<table border=\"1\" class=\"dataframe\">\n",
       "  <thead>\n",
       "    <tr style=\"text-align: right;\">\n",
       "      <th></th>\n",
       "      <th>Count_x</th>\n",
       "      <th>Number of Referrals</th>\n",
       "      <th>Tenure in Months</th>\n",
       "      <th>Avg Monthly Long Distance Charges</th>\n",
       "      <th>Avg Monthly GB Download</th>\n",
       "      <th>Monthly Charge</th>\n",
       "      <th>Total Charges</th>\n",
       "      <th>Total Refunds</th>\n",
       "      <th>Total Extra Data Charges</th>\n",
       "      <th>Total Long Distance Charges</th>\n",
       "      <th>Total Revenue</th>\n",
       "      <th>Count_y</th>\n",
       "      <th>Satisfaction Score</th>\n",
       "      <th>Churn Value</th>\n",
       "      <th>Churn Score</th>\n",
       "      <th>CLTV</th>\n",
       "      <th>Count</th>\n",
       "      <th>Zip Code</th>\n",
       "      <th>Latitude</th>\n",
       "      <th>Longitude</th>\n",
       "    </tr>\n",
       "  </thead>\n",
       "  <tbody>\n",
       "    <tr>\n",
       "      <th>count</th>\n",
       "      <td>7043.0</td>\n",
       "      <td>7043.000000</td>\n",
       "      <td>7043.000000</td>\n",
       "      <td>7043.000000</td>\n",
       "      <td>7043.000000</td>\n",
       "      <td>7043.000000</td>\n",
       "      <td>7043.000000</td>\n",
       "      <td>7043.000000</td>\n",
       "      <td>7043.000000</td>\n",
       "      <td>7043.000000</td>\n",
       "      <td>7043.000000</td>\n",
       "      <td>7043.0</td>\n",
       "      <td>7043.000000</td>\n",
       "      <td>7043.000000</td>\n",
       "      <td>7043.000000</td>\n",
       "      <td>7043.000000</td>\n",
       "      <td>7043.0</td>\n",
       "      <td>7043.000000</td>\n",
       "      <td>7043.000000</td>\n",
       "      <td>7043.000000</td>\n",
       "    </tr>\n",
       "    <tr>\n",
       "      <th>mean</th>\n",
       "      <td>1.0</td>\n",
       "      <td>1.951867</td>\n",
       "      <td>32.386767</td>\n",
       "      <td>22.958954</td>\n",
       "      <td>20.515405</td>\n",
       "      <td>64.761692</td>\n",
       "      <td>2280.381264</td>\n",
       "      <td>1.962182</td>\n",
       "      <td>6.860713</td>\n",
       "      <td>749.099262</td>\n",
       "      <td>3034.379056</td>\n",
       "      <td>1.0</td>\n",
       "      <td>3.244924</td>\n",
       "      <td>0.265370</td>\n",
       "      <td>58.505040</td>\n",
       "      <td>4400.295755</td>\n",
       "      <td>1.0</td>\n",
       "      <td>93486.071134</td>\n",
       "      <td>36.197455</td>\n",
       "      <td>-119.756684</td>\n",
       "    </tr>\n",
       "    <tr>\n",
       "      <th>std</th>\n",
       "      <td>0.0</td>\n",
       "      <td>3.001199</td>\n",
       "      <td>24.542061</td>\n",
       "      <td>15.448113</td>\n",
       "      <td>20.418940</td>\n",
       "      <td>30.090047</td>\n",
       "      <td>2266.220462</td>\n",
       "      <td>7.902614</td>\n",
       "      <td>25.104978</td>\n",
       "      <td>846.660055</td>\n",
       "      <td>2865.204542</td>\n",
       "      <td>0.0</td>\n",
       "      <td>1.201657</td>\n",
       "      <td>0.441561</td>\n",
       "      <td>21.170031</td>\n",
       "      <td>1183.057152</td>\n",
       "      <td>0.0</td>\n",
       "      <td>1856.768045</td>\n",
       "      <td>2.468929</td>\n",
       "      <td>2.154425</td>\n",
       "    </tr>\n",
       "    <tr>\n",
       "      <th>min</th>\n",
       "      <td>1.0</td>\n",
       "      <td>0.000000</td>\n",
       "      <td>1.000000</td>\n",
       "      <td>0.000000</td>\n",
       "      <td>0.000000</td>\n",
       "      <td>18.250000</td>\n",
       "      <td>18.800000</td>\n",
       "      <td>0.000000</td>\n",
       "      <td>0.000000</td>\n",
       "      <td>0.000000</td>\n",
       "      <td>21.360000</td>\n",
       "      <td>1.0</td>\n",
       "      <td>1.000000</td>\n",
       "      <td>0.000000</td>\n",
       "      <td>5.000000</td>\n",
       "      <td>2003.000000</td>\n",
       "      <td>1.0</td>\n",
       "      <td>90001.000000</td>\n",
       "      <td>32.555828</td>\n",
       "      <td>-124.301372</td>\n",
       "    </tr>\n",
       "    <tr>\n",
       "      <th>25%</th>\n",
       "      <td>1.0</td>\n",
       "      <td>0.000000</td>\n",
       "      <td>9.000000</td>\n",
       "      <td>9.210000</td>\n",
       "      <td>3.000000</td>\n",
       "      <td>35.500000</td>\n",
       "      <td>400.150000</td>\n",
       "      <td>0.000000</td>\n",
       "      <td>0.000000</td>\n",
       "      <td>70.545000</td>\n",
       "      <td>605.610000</td>\n",
       "      <td>1.0</td>\n",
       "      <td>3.000000</td>\n",
       "      <td>0.000000</td>\n",
       "      <td>40.000000</td>\n",
       "      <td>3469.000000</td>\n",
       "      <td>1.0</td>\n",
       "      <td>92101.000000</td>\n",
       "      <td>33.990646</td>\n",
       "      <td>-121.788090</td>\n",
       "    </tr>\n",
       "    <tr>\n",
       "      <th>50%</th>\n",
       "      <td>1.0</td>\n",
       "      <td>0.000000</td>\n",
       "      <td>29.000000</td>\n",
       "      <td>22.890000</td>\n",
       "      <td>17.000000</td>\n",
       "      <td>70.350000</td>\n",
       "      <td>1394.550000</td>\n",
       "      <td>0.000000</td>\n",
       "      <td>0.000000</td>\n",
       "      <td>401.440000</td>\n",
       "      <td>2108.640000</td>\n",
       "      <td>1.0</td>\n",
       "      <td>3.000000</td>\n",
       "      <td>0.000000</td>\n",
       "      <td>61.000000</td>\n",
       "      <td>4527.000000</td>\n",
       "      <td>1.0</td>\n",
       "      <td>93518.000000</td>\n",
       "      <td>36.205465</td>\n",
       "      <td>-119.595293</td>\n",
       "    </tr>\n",
       "    <tr>\n",
       "      <th>75%</th>\n",
       "      <td>1.0</td>\n",
       "      <td>3.000000</td>\n",
       "      <td>55.000000</td>\n",
       "      <td>36.395000</td>\n",
       "      <td>27.000000</td>\n",
       "      <td>89.850000</td>\n",
       "      <td>3786.600000</td>\n",
       "      <td>0.000000</td>\n",
       "      <td>0.000000</td>\n",
       "      <td>1191.100000</td>\n",
       "      <td>4801.145000</td>\n",
       "      <td>1.0</td>\n",
       "      <td>4.000000</td>\n",
       "      <td>1.000000</td>\n",
       "      <td>75.500000</td>\n",
       "      <td>5380.500000</td>\n",
       "      <td>1.0</td>\n",
       "      <td>95329.000000</td>\n",
       "      <td>38.161321</td>\n",
       "      <td>-117.969795</td>\n",
       "    </tr>\n",
       "    <tr>\n",
       "      <th>max</th>\n",
       "      <td>1.0</td>\n",
       "      <td>11.000000</td>\n",
       "      <td>72.000000</td>\n",
       "      <td>49.990000</td>\n",
       "      <td>85.000000</td>\n",
       "      <td>118.750000</td>\n",
       "      <td>8684.800000</td>\n",
       "      <td>49.790000</td>\n",
       "      <td>150.000000</td>\n",
       "      <td>3564.720000</td>\n",
       "      <td>11979.340000</td>\n",
       "      <td>1.0</td>\n",
       "      <td>5.000000</td>\n",
       "      <td>1.000000</td>\n",
       "      <td>96.000000</td>\n",
       "      <td>6500.000000</td>\n",
       "      <td>1.0</td>\n",
       "      <td>96150.000000</td>\n",
       "      <td>41.962127</td>\n",
       "      <td>-114.192901</td>\n",
       "    </tr>\n",
       "  </tbody>\n",
       "</table>\n",
       "</div>"
      ],
      "text/plain": [
       "       Count_x  Number of Referrals  Tenure in Months  \\\n",
       "count   7043.0          7043.000000       7043.000000   \n",
       "mean       1.0             1.951867         32.386767   \n",
       "std        0.0             3.001199         24.542061   \n",
       "min        1.0             0.000000          1.000000   \n",
       "25%        1.0             0.000000          9.000000   \n",
       "50%        1.0             0.000000         29.000000   \n",
       "75%        1.0             3.000000         55.000000   \n",
       "max        1.0            11.000000         72.000000   \n",
       "\n",
       "       Avg Monthly Long Distance Charges  Avg Monthly GB Download  \\\n",
       "count                        7043.000000              7043.000000   \n",
       "mean                           22.958954                20.515405   \n",
       "std                            15.448113                20.418940   \n",
       "min                             0.000000                 0.000000   \n",
       "25%                             9.210000                 3.000000   \n",
       "50%                            22.890000                17.000000   \n",
       "75%                            36.395000                27.000000   \n",
       "max                            49.990000                85.000000   \n",
       "\n",
       "       Monthly Charge  Total Charges  Total Refunds  Total Extra Data Charges  \\\n",
       "count     7043.000000    7043.000000    7043.000000               7043.000000   \n",
       "mean        64.761692    2280.381264       1.962182                  6.860713   \n",
       "std         30.090047    2266.220462       7.902614                 25.104978   \n",
       "min         18.250000      18.800000       0.000000                  0.000000   \n",
       "25%         35.500000     400.150000       0.000000                  0.000000   \n",
       "50%         70.350000    1394.550000       0.000000                  0.000000   \n",
       "75%         89.850000    3786.600000       0.000000                  0.000000   \n",
       "max        118.750000    8684.800000      49.790000                150.000000   \n",
       "\n",
       "       Total Long Distance Charges  Total Revenue  Count_y  \\\n",
       "count                  7043.000000    7043.000000   7043.0   \n",
       "mean                    749.099262    3034.379056      1.0   \n",
       "std                     846.660055    2865.204542      0.0   \n",
       "min                       0.000000      21.360000      1.0   \n",
       "25%                      70.545000     605.610000      1.0   \n",
       "50%                     401.440000    2108.640000      1.0   \n",
       "75%                    1191.100000    4801.145000      1.0   \n",
       "max                    3564.720000   11979.340000      1.0   \n",
       "\n",
       "       Satisfaction Score  Churn Value  Churn Score         CLTV   Count  \\\n",
       "count         7043.000000  7043.000000  7043.000000  7043.000000  7043.0   \n",
       "mean             3.244924     0.265370    58.505040  4400.295755     1.0   \n",
       "std              1.201657     0.441561    21.170031  1183.057152     0.0   \n",
       "min              1.000000     0.000000     5.000000  2003.000000     1.0   \n",
       "25%              3.000000     0.000000    40.000000  3469.000000     1.0   \n",
       "50%              3.000000     0.000000    61.000000  4527.000000     1.0   \n",
       "75%              4.000000     1.000000    75.500000  5380.500000     1.0   \n",
       "max              5.000000     1.000000    96.000000  6500.000000     1.0   \n",
       "\n",
       "           Zip Code     Latitude    Longitude  \n",
       "count   7043.000000  7043.000000  7043.000000  \n",
       "mean   93486.071134    36.197455  -119.756684  \n",
       "std     1856.768045     2.468929     2.154425  \n",
       "min    90001.000000    32.555828  -124.301372  \n",
       "25%    92101.000000    33.990646  -121.788090  \n",
       "50%    93518.000000    36.205465  -119.595293  \n",
       "75%    95329.000000    38.161321  -117.969795  \n",
       "max    96150.000000    41.962127  -114.192901  "
      ]
     },
     "execution_count": 10,
     "metadata": {},
     "output_type": "execute_result"
    }
   ],
   "source": [
    "df.describe()"
   ]
  },
  {
   "cell_type": "markdown",
   "id": "8c4c95c3-f062-4156-8363-2be17ddce0ec",
   "metadata": {},
   "source": [
    "Show only non-numeric features, including potentially categorical data"
   ]
  },
  {
   "cell_type": "code",
   "execution_count": 11,
   "id": "4418efd9-606c-4c80-bae2-f5f171f8afae",
   "metadata": {},
   "outputs": [
    {
     "name": "stdout",
     "output_type": "stream",
     "text": [
      "<class 'pandas.core.frame.DataFrame'>\n",
      "RangeIndex: 7043 entries, 0 to 7042\n",
      "Data columns (total 31 columns):\n",
      " #   Column                  Non-Null Count  Dtype \n",
      "---  ------                  --------------  ----- \n",
      " 0   Service ID              7043 non-null   object\n",
      " 1   Customer ID             7043 non-null   object\n",
      " 2   Quarter_x               7043 non-null   object\n",
      " 3   Referred a Friend       7043 non-null   object\n",
      " 4   Offer                   3166 non-null   object\n",
      " 5   Phone Service           7043 non-null   object\n",
      " 6   Multiple Lines          7043 non-null   object\n",
      " 7   Internet Service        7043 non-null   object\n",
      " 8   Internet Type           5517 non-null   object\n",
      " 9   Online Security         7043 non-null   object\n",
      " 10  Online Backup           7043 non-null   object\n",
      " 11  Device Protection Plan  7043 non-null   object\n",
      " 12  Premium Tech Support    7043 non-null   object\n",
      " 13  Streaming TV            7043 non-null   object\n",
      " 14  Streaming Movies        7043 non-null   object\n",
      " 15  Streaming Music         7043 non-null   object\n",
      " 16  Unlimited Data          7043 non-null   object\n",
      " 17  Contract                7043 non-null   object\n",
      " 18  Paperless Billing       7043 non-null   object\n",
      " 19  Payment Method          7043 non-null   object\n",
      " 20  Status ID               7043 non-null   object\n",
      " 21  Quarter_y               7043 non-null   object\n",
      " 22  Customer Status         7043 non-null   object\n",
      " 23  Churn Label             7043 non-null   object\n",
      " 24  Churn Category          1869 non-null   object\n",
      " 25  Churn Reason            1869 non-null   object\n",
      " 26  Location ID             7043 non-null   object\n",
      " 27  Country                 7043 non-null   object\n",
      " 28  State                   7043 non-null   object\n",
      " 29  City                    7043 non-null   object\n",
      " 30  Lat Long                7043 non-null   object\n",
      "dtypes: object(31)\n",
      "memory usage: 1.7+ MB\n"
     ]
    }
   ],
   "source": [
    "df.select_dtypes(exclude=['number']).info()"
   ]
  },
  {
   "cell_type": "markdown",
   "id": "b1321635-5cba-406f-bbb3-3ba78ea5161a",
   "metadata": {},
   "source": [
    "Only numeric data"
   ]
  },
  {
   "cell_type": "code",
   "execution_count": 12,
   "id": "78be3fde-baf7-4501-9f82-bc91195b2ffe",
   "metadata": {},
   "outputs": [
    {
     "name": "stdout",
     "output_type": "stream",
     "text": [
      "<class 'pandas.core.frame.DataFrame'>\n",
      "RangeIndex: 7043 entries, 0 to 7042\n",
      "Data columns (total 20 columns):\n",
      " #   Column                             Non-Null Count  Dtype  \n",
      "---  ------                             --------------  -----  \n",
      " 0   Count_x                            7043 non-null   int64  \n",
      " 1   Number of Referrals                7043 non-null   int64  \n",
      " 2   Tenure in Months                   7043 non-null   int64  \n",
      " 3   Avg Monthly Long Distance Charges  7043 non-null   float64\n",
      " 4   Avg Monthly GB Download            7043 non-null   int64  \n",
      " 5   Monthly Charge                     7043 non-null   float64\n",
      " 6   Total Charges                      7043 non-null   float64\n",
      " 7   Total Refunds                      7043 non-null   float64\n",
      " 8   Total Extra Data Charges           7043 non-null   int64  \n",
      " 9   Total Long Distance Charges        7043 non-null   float64\n",
      " 10  Total Revenue                      7043 non-null   float64\n",
      " 11  Count_y                            7043 non-null   int64  \n",
      " 12  Satisfaction Score                 7043 non-null   int64  \n",
      " 13  Churn Value                        7043 non-null   int64  \n",
      " 14  Churn Score                        7043 non-null   int64  \n",
      " 15  CLTV                               7043 non-null   int64  \n",
      " 16  Count                              7043 non-null   int64  \n",
      " 17  Zip Code                           7043 non-null   int64  \n",
      " 18  Latitude                           7043 non-null   float64\n",
      " 19  Longitude                          7043 non-null   float64\n",
      "dtypes: float64(8), int64(12)\n",
      "memory usage: 1.1 MB\n"
     ]
    }
   ],
   "source": [
    "df.select_dtypes(include=['number']).info()"
   ]
  },
  {
   "cell_type": "markdown",
   "id": "adadb493-3ba2-49a8-9724-24a96749023a",
   "metadata": {},
   "source": [
    "## 3. Exploration"
   ]
  },
  {
   "cell_type": "markdown",
   "id": "b3eed8f1-6f72-483f-a88f-d457610a174d",
   "metadata": {},
   "source": [
    "### Where is churn occurring?"
   ]
  },
  {
   "cell_type": "markdown",
   "id": "f321de3c-1183-4dc3-b3fa-be34d360c96c",
   "metadata": {},
   "source": [
    "Selects only customers who churned"
   ]
  },
  {
   "cell_type": "code",
   "execution_count": 13,
   "id": "c1f3ff9e-f49a-4c5d-835b-a0ca59276141",
   "metadata": {},
   "outputs": [],
   "source": [
    "churn=df[ df['Churn Value'] == 1 ]"
   ]
  },
  {
   "cell_type": "markdown",
   "id": "cacf7bba-939d-4834-9d42-dca1a447e37a",
   "metadata": {},
   "source": [
    "What fraction of customers are churning?"
   ]
  },
  {
   "cell_type": "code",
   "execution_count": 38,
   "id": "7a24fc51-b2ad-4728-9963-7efb2fad1aa8",
   "metadata": {},
   "outputs": [
    {
     "data": {
      "text/plain": [
       "0.2653698707936959"
      ]
     },
     "execution_count": 38,
     "metadata": {},
     "output_type": "execute_result"
    }
   ],
   "source": [
    "len(churn)/len(df)"
   ]
  },
  {
   "cell_type": "markdown",
   "id": "12f7c1d8-7c05-4bd6-b767-5099e43da6fd",
   "metadata": {},
   "source": [
    "Gets lat and lon distributions for churning customers using a KDE. KDE stands for kernel density estimator, which amounts to converting a cloud of points into a distribution. Notice that usual KDE estimators are *slow*, so I am using a fast method."
   ]
  },
  {
   "cell_type": "code",
   "execution_count": 14,
   "id": "e30c2371-b357-492c-a00b-3b3c43509bdf",
   "metadata": {},
   "outputs": [],
   "source": [
    "import fastkde\n",
    "density=fastkde.pdf(churn[\"Longitude\"].to_numpy(), churn[\"Latitude\"].to_numpy())"
   ]
  },
  {
   "cell_type": "markdown",
   "id": "6516d212-95e3-4aeb-9f9a-342b8f680fa8",
   "metadata": {},
   "source": [
    "Gets list of major cities in the world"
   ]
  },
  {
   "cell_type": "code",
   "execution_count": 15,
   "id": "92014baf-5251-42e1-a64b-9b0f85b08c32",
   "metadata": {},
   "outputs": [],
   "source": [
    "#import geopandas as gpd\n",
    "#cities = gpd.read_file(gpd.datasets.get_path('naturalearth_cities'))"
   ]
  },
  {
   "cell_type": "code",
   "execution_count": 16,
   "id": "c4d1c542-e70e-4374-997a-be43ccac5f9a",
   "metadata": {},
   "outputs": [],
   "source": [
    "import cartopy.crs as ccrs\n",
    "import cartopy.feature as cfeature\n",
    "from matplotlib.colors import BoundaryNorm\n",
    "from matplotlib import cm\n",
    "\n",
    "# Create a figure and set up a Cartopy map projection\n",
    "fig = plt.figure(figsize=(10, 8))\n",
    "ax = fig.add_subplot(1, 1, 1, projection=ccrs.PlateCarree())\n",
    "\n",
    "# Add map features\n",
    "ax.add_feature(cfeature.BORDERS, edgecolor='white')\n",
    "ax.add_feature(cfeature.STATES, edgecolor='white')\n",
    "\n",
    "# Filter cities that fall within the map's visible extent\n",
    "#visible_cities = cities.cx[density.var0[0]:density.var0[-1], density.var1[0]:density.var1[-1]]\n",
    "#for idx, city in visible_cities.iterrows():\n",
    "    #ax.plot(city.geometry.x, city.geometry.y, marker='o', color='red', markersize=5, transform=ccrs.PlateCarree())\n",
    "    #ax.text(city.geometry.x + 0.5, city.geometry.y + 0.5, city['name'], fontsize=9, color='white', transform=ccrs.PlateCarree())\n",
    "\n",
    "# Plot the colormap \n",
    "plt.pcolormesh(density.var0, density.var1, density, cmap='turbo', transform=ccrs.PlateCarree())\n",
    "plt.colorbar()\n",
    "plt.title(\"Churn map\")\n",
    "#plt.show()\n",
    "plt.savefig('../plots/churn-map.jpg', dpi=300)"
   ]
  },
  {
   "cell_type": "markdown",
   "id": "ed04718d-4952-42a8-81b8-4bd560912401",
   "metadata": {},
   "source": [
    "### Geography of reasons for churning\n",
    "\n",
    "What are the reasons for customers churning, as a function of location?"
   ]
  },
  {
   "cell_type": "markdown",
   "id": "02911d28-4769-44be-afce-a819f630ada4",
   "metadata": {},
   "source": [
    "#### Handle the categorical features"
   ]
  },
  {
   "cell_type": "code",
   "execution_count": 17,
   "id": "65da2d77-1c18-49f7-af46-7ac447bd2d29",
   "metadata": {},
   "outputs": [],
   "source": [
    "churnCat = pd.DataFrame(churn['Churn Category'])"
   ]
  },
  {
   "cell_type": "code",
   "execution_count": 18,
   "id": "92f571b2-12ef-4c45-b69b-4358269a9269",
   "metadata": {},
   "outputs": [],
   "source": [
    "from sklearn.preprocessing import OrdinalEncoder\n",
    "ordinalEncoder = OrdinalEncoder()\n",
    "churnCatEnc=ordinalEncoder.fit_transform(churnCat)"
   ]
  },
  {
   "cell_type": "code",
   "execution_count": 19,
   "id": "3b79d06a-9be2-4e2c-a7ae-7a68a11f7c8d",
   "metadata": {},
   "outputs": [
    {
     "data": {
      "text/plain": [
       "array([[1.],\n",
       "       [1.],\n",
       "       [1.],\n",
       "       [2.],\n",
       "       [4.],\n",
       "       [1.],\n",
       "       [3.],\n",
       "       [2.]])"
      ]
     },
     "execution_count": 19,
     "metadata": {},
     "output_type": "execute_result"
    }
   ],
   "source": [
    "churnCatEnc[:8]"
   ]
  },
  {
   "cell_type": "code",
   "execution_count": 20,
   "id": "48c943ea-b755-4c05-98f0-24f9552615d5",
   "metadata": {},
   "outputs": [
    {
     "data": {
      "text/plain": [
       "[array(['Attitude', 'Competitor', 'Dissatisfaction', 'Other', 'Price'],\n",
       "       dtype=object)]"
      ]
     },
     "execution_count": 20,
     "metadata": {},
     "output_type": "execute_result"
    }
   ],
   "source": [
    "ordinalEncoder.categories_"
   ]
  },
  {
   "cell_type": "markdown",
   "id": "af65ac65-e255-424c-b174-6800295817ba",
   "metadata": {},
   "source": [
    "#### Map"
   ]
  },
  {
   "cell_type": "markdown",
   "id": "10503dce-1724-4f40-a702-a2470610e5ba",
   "metadata": {},
   "source": [
    "Plots the geographical distribution of churn according to type"
   ]
  },
  {
   "cell_type": "code",
   "execution_count": 21,
   "id": "47c1dd53-301b-4ab6-a07a-2e3bc7bbf1ab",
   "metadata": {},
   "outputs": [
    {
     "name": "stderr",
     "output_type": "stream",
     "text": [
      "/Users/nemmen/anaconda3/lib/python3.11/site-packages/shapely/predicates.py:778: RuntimeWarning: invalid value encountered in intersects\n",
      "  return lib.intersects(a, b, **kwargs)\n",
      "/Users/nemmen/anaconda3/lib/python3.11/site-packages/shapely/predicates.py:778: RuntimeWarning: invalid value encountered in intersects\n",
      "  return lib.intersects(a, b, **kwargs)\n",
      "/Users/nemmen/anaconda3/lib/python3.11/site-packages/shapely/predicates.py:778: RuntimeWarning: invalid value encountered in intersects\n",
      "  return lib.intersects(a, b, **kwargs)\n",
      "/Users/nemmen/anaconda3/lib/python3.11/site-packages/shapely/predicates.py:778: RuntimeWarning: invalid value encountered in intersects\n",
      "  return lib.intersects(a, b, **kwargs)\n",
      "/Users/nemmen/anaconda3/lib/python3.11/site-packages/shapely/predicates.py:778: RuntimeWarning: invalid value encountered in intersects\n",
      "  return lib.intersects(a, b, **kwargs)\n",
      "/Users/nemmen/anaconda3/lib/python3.11/site-packages/shapely/predicates.py:778: RuntimeWarning: invalid value encountered in intersects\n",
      "  return lib.intersects(a, b, **kwargs)\n",
      "/Users/nemmen/anaconda3/lib/python3.11/site-packages/shapely/predicates.py:778: RuntimeWarning: invalid value encountered in intersects\n",
      "  return lib.intersects(a, b, **kwargs)\n",
      "/Users/nemmen/anaconda3/lib/python3.11/site-packages/shapely/predicates.py:778: RuntimeWarning: invalid value encountered in intersects\n",
      "  return lib.intersects(a, b, **kwargs)\n"
     ]
    }
   ],
   "source": [
    "for cat, catText in enumerate(ordinalEncoder.categories_[0]): \n",
    "    # selects only the data for the given category\n",
    "    churnSelect = churn[ churnCatEnc == cat ]\n",
    "    # kernel density\n",
    "    density=fastkde.pdf(churnSelect[\"Longitude\"].to_numpy(), churnSelect[\"Latitude\"].to_numpy())\n",
    "\n",
    "    # Create a figure and set up a Cartopy map projection\n",
    "    fig = plt.figure(figsize=(10, 8))\n",
    "    ax = fig.add_subplot(1, 1, 1, projection=ccrs.PlateCarree())\n",
    "\n",
    "    # Add map features\n",
    "    ax.add_feature(cfeature.BORDERS, edgecolor='white')\n",
    "    ax.add_feature(cfeature.STATES, edgecolor='white')\n",
    "\n",
    "    # Filter cities that fall within the map's visible extent\n",
    "    #visible_cities = cities.cx[density.var0[0]:density.var0[-1], density.var1[0]:density.var1[-1]]\n",
    "    #for idx, city in visible_cities.iterrows():\n",
    "        #ax.plot(city.geometry.x, city.geometry.y, marker='o', color='red', markersize=5, transform=ccrs.PlateCarree())\n",
    "        #ax.text(city.geometry.x + 0.5, city.geometry.y + 0.5, city['name'], fontsize=9, color='white', transform=ccrs.PlateCarree())\n",
    "\n",
    "    # Plot the colormap \n",
    "    plt.pcolormesh(density.var0, density.var1, density, cmap='turbo', transform=ccrs.PlateCarree())\n",
    "    plt.colorbar()    \n",
    "    plt.title(catText)\n",
    "    \n",
    "    plt.savefig('churn'+catText+ '.jpg', dpi=300)"
   ]
  },
  {
   "cell_type": "markdown",
   "id": "71de179a-dce7-4429-9b95-9f98db2f3aeb",
   "metadata": {},
   "source": [
    "### Correlations with churn"
   ]
  },
  {
   "cell_type": "markdown",
   "id": "76e3cda6-6803-4223-b2f7-b8a883676682",
   "metadata": {},
   "source": [
    "#### Convert categorical values to numbers"
   ]
  },
  {
   "cell_type": "markdown",
   "id": "86162227-ced2-404a-9bda-bb319c8c6e07",
   "metadata": {},
   "source": [
    "Which features to convert?\n",
    "\n",
    "services/Referred a Friend\n",
    "services/Phone Service\n",
    "services/Multiple Lines\n",
    "services/Internet Service\n",
    "services/Online Security\n",
    "services/Online Backup\n",
    "services/Streaming TV\n",
    "services/Streaming Movies\n",
    "services/Streaming Music\n",
    "services/Contract"
   ]
  },
  {
   "cell_type": "code",
   "execution_count": 22,
   "id": "c04626d0-ac5b-491f-9505-4f9365ca0550",
   "metadata": {},
   "outputs": [],
   "source": [
    "ordinalEncoder = OrdinalEncoder()\n",
    "\n",
    "# List of categorical feature columns\n",
    "categorical_features = [\n",
    "    'Referred a Friend',\n",
    "    'Phone Service',\n",
    "    'Multiple Lines',\n",
    "    'Internet Service',\n",
    "    'Online Security',\n",
    "    'Online Backup',\n",
    "    'Streaming TV',\n",
    "    'Streaming Movies',\n",
    "    'Streaming Music',\n",
    "    'Contract',\n",
    "    'Device Protection Plan',\n",
    "    'Premium Tech Support',\n",
    "    'Unlimited Data'\n",
    "]\n",
    "\n",
    "# Apply OrdinalEncoder to the categorical columns in the DataFrame\n",
    "df[categorical_features] = ordinalEncoder.fit_transform(df[categorical_features])"
   ]
  },
  {
   "cell_type": "markdown",
   "id": "7e338e32-acf1-4cc2-9367-bcf2e90696eb",
   "metadata": {},
   "source": [
    "#### Correlation matrix"
   ]
  },
  {
   "cell_type": "code",
   "execution_count": 23,
   "id": "949e5471-a444-4d30-99a4-f2f484c9df8b",
   "metadata": {},
   "outputs": [],
   "source": [
    "removeCols= ['Churn Score', 'Count_x', 'Count_y', 'Count', 'CLTV', 'Latitude', 'Longitude', 'Zip Code']\n",
    "corrMatrix = df.drop(columns=removeCols).corr(method='pearson', numeric_only=True)"
   ]
  },
  {
   "cell_type": "code",
   "execution_count": 24,
   "id": "7c710fd7-9084-4be0-a331-26becb543636",
   "metadata": {},
   "outputs": [
    {
     "data": {
      "text/plain": [
       "Churn Value                          1.000000\n",
       "Satisfaction Score                  -0.754649\n",
       "Contract                            -0.435398\n",
       "Tenure in Months                    -0.352861\n",
       "Number of Referrals                 -0.286540\n",
       "Internet Service                     0.227890\n",
       "Total Long Distance Charges         -0.223756\n",
       "Total Revenue                       -0.223003\n",
       "Total Charges                       -0.198546\n",
       "Monthly Charge                       0.193356\n",
       "Online Security                     -0.171226\n",
       "Unlimited Data                       0.166545\n",
       "Premium Tech Support                -0.164674\n",
       "Referred a Friend                   -0.149122\n",
       "Online Backup                       -0.082255\n",
       "Device Protection Plan              -0.066160\n",
       "Streaming TV                         0.063228\n",
       "Streaming Movies                     0.061382\n",
       "Avg Monthly GB Download              0.048868\n",
       "Streaming Music                      0.045587\n",
       "Multiple Lines                       0.040102\n",
       "Total Refunds                       -0.033709\n",
       "Phone Service                        0.011942\n",
       "Avg Monthly Long Distance Charges    0.008120\n",
       "Total Extra Data Charges             0.007139\n",
       "Name: Churn Value, dtype: float64"
      ]
     },
     "execution_count": 24,
     "metadata": {},
     "output_type": "execute_result"
    }
   ],
   "source": [
    "corrMatrix[\"Churn Value\"].sort_values(ascending=False, key=abs)"
   ]
  },
  {
   "cell_type": "markdown",
   "id": "59233a09-c89c-47cf-8814-4e09f8b9ef85",
   "metadata": {},
   "source": [
    "##### Conclusions:\n",
    "\n",
    "I highlighted below non-obvious correlations with churning. We could devise specific campaigns to retain such customers.\n",
    "\n",
    "Churn is highly *anti-correlated* with:\n",
    "\n",
    "1. satisfaction score\n",
    "2. <u>Type of contract</u>\n",
    "3. tenure duration\n",
    "\n",
    "Churn is mildly *correlated* with:\n",
    "\n",
    "1. internet service\n",
    "2. monthly charge\n",
    "\n",
    "Regarding specific plans and options, the ones that seem to affect churning more strongly are:\n",
    "\n",
    "1. internet\n",
    "2. <u>online security</u>\n",
    "3. online backup\n",
    "4. streaming services (similar impact)"
   ]
  },
  {
   "cell_type": "markdown",
   "id": "cb5d22e0-8ca6-4ea9-870a-85198d317969",
   "metadata": {},
   "source": [
    "#### Logistic regression coefficients\n",
    "\n",
    "I fit a Logistic Regression model where the target variable is binary (`Churn Value`). The coefficients of the logistic regression model help us understand how each numerical feature impacts the odds of churn. The strength and direction of the relationship between each numerical feature and the binary Churn variable."
   ]
  },
  {
   "cell_type": "code",
   "execution_count": 25,
   "id": "02d04f62-6bde-4c4e-9a61-8e685e807760",
   "metadata": {},
   "outputs": [],
   "source": [
    "from sklearn.linear_model import LogisticRegression\n",
    "from sklearn.model_selection import train_test_split\n",
    "from sklearn.preprocessing import StandardScaler"
   ]
  },
  {
   "cell_type": "code",
   "execution_count": 26,
   "id": "7638eace-2806-47b3-8314-8a62750f2c4b",
   "metadata": {},
   "outputs": [],
   "source": [
    "# Assuming df is your DataFrame and 'Churn' is the binary target variable\n",
    "remove=['Churn Value']+removeCols\n",
    "# include only numeric features\n",
    "X = df.drop(columns=remove).select_dtypes(include=[np.number])\n",
    "y = df['Churn Value']\n",
    "\n",
    "# Standardize the features\n",
    "scaler = StandardScaler()\n",
    "X_scaled = scaler.fit_transform(X)\n",
    "\n",
    "# Split the data into training and testing sets\n",
    "X_train, X_test, y_train, y_test = train_test_split(X_scaled, y, test_size=0.2, random_state=42)\n",
    "\n",
    "# Fit the Logistic Regression model\n",
    "log_reg = LogisticRegression()\n",
    "log_reg.fit(X_train, y_train)\n",
    "\n",
    "# Get the coefficients\n",
    "coefficients = pd.Series(log_reg.coef_[0], index=X.columns)"
   ]
  },
  {
   "cell_type": "code",
   "execution_count": 27,
   "id": "3b0ef86e-de4f-4adc-b52a-f34afa1df849",
   "metadata": {},
   "outputs": [
    {
     "data": {
      "text/plain": [
       "Satisfaction Score                  -7.130723\n",
       "Number of Referrals                 -2.049772\n",
       "Online Security                     -1.369833\n",
       "Tenure in Months                    -1.210447\n",
       "Monthly Charge                       0.794078\n",
       "Referred a Friend                    0.779304\n",
       "Contract                            -0.618929\n",
       "Premium Tech Support                -0.280887\n",
       "Phone Service                       -0.269804\n",
       "Internet Service                     0.250590\n",
       "Total Charges                        0.243089\n",
       "Total Revenue                        0.242088\n",
       "Multiple Lines                       0.198481\n",
       "Avg Monthly Long Distance Charges   -0.195545\n",
       "Total Refunds                       -0.181187\n",
       "Online Backup                       -0.171881\n",
       "Total Long Distance Charges          0.168446\n",
       "Unlimited Data                      -0.161912\n",
       "Avg Monthly GB Download             -0.101038\n",
       "Streaming Movies                     0.067514\n",
       "Total Extra Data Charges            -0.052217\n",
       "Device Protection Plan              -0.044530\n",
       "Streaming TV                        -0.039972\n",
       "Streaming Music                     -0.023617\n",
       "dtype: float64"
      ]
     },
     "execution_count": 27,
     "metadata": {},
     "output_type": "execute_result"
    }
   ],
   "source": [
    "coefficients.sort_values(ascending=False, key=abs)"
   ]
  },
  {
   "cell_type": "markdown",
   "id": "18b7a37b-5d8f-4972-b90e-9ffbb98b4015",
   "metadata": {},
   "source": [
    "##### Conclusions 2:\n",
    "\n",
    "A quick logistic regression analysis further reveals interesting correlations. New results compared to the previous correlation analysis are highlighted.\n",
    "\n",
    "Churn highly *anti-correlated* with:\n",
    "\n",
    "1. satisfaction score\n",
    "2. <u>Number of referrals</u>\n",
    "3. Online security\n",
    "4. tenure duration\n",
    "5. type of contract\n",
    "\n",
    "Churn *correlated* with:\n",
    "\n",
    "1. monthly charge \n",
    "2. referred a friend (correlated with 2 above)\n",
    "3. total charges (correlated with `a`)\n",
    "\n",
    "Another surprise is that logistic regression suggests that the factors below are not as relevant as those pointed out above: \n",
    "\n",
    "1. online backup\n",
    "2. internet service\n",
    "3. streaming services (similar impact)"
   ]
  },
  {
   "cell_type": "markdown",
   "id": "a36dcac5-85c1-468e-ac53-5d9258b3e395",
   "metadata": {},
   "source": [
    "### Visual inspection"
   ]
  },
  {
   "cell_type": "markdown",
   "id": "0ab3e846-42d6-4b34-b1b7-49d3ef14ba2d",
   "metadata": {},
   "source": [
    "#### Boxplots"
   ]
  },
  {
   "cell_type": "code",
   "execution_count": 31,
   "id": "3e42f370-3d24-4df7-b6d9-9f655a9bb9a7",
   "metadata": {},
   "outputs": [],
   "source": [
    "# Set up the 5x5 grid\n",
    "n_cols = 5\n",
    "n_rows = math.ceil(len(X.columns) / n_cols)  # Dynamically calculate rows needed\n",
    "\n",
    "fig, axes = plt.subplots(n_rows, n_cols, figsize=(20, 15))  # Adjust size of the plot grid\n",
    "axes = axes.flatten()  # Flatten the axes to easily index in the loop\n",
    "\n",
    "# Plot boxplots for each column in the grid\n",
    "for i, column in enumerate(X.columns):\n",
    "    sns.boxplot(x='Churn Value', y=column, data=df, ax=axes[i], hue='Churn Value', legend=False)\n",
    "    axes[i].set_title(f'{column} vs Churn Value')\n",
    "\n",
    "# Remove unused subplots if there are fewer plots than grid cells\n",
    "for j in range(i + 1, len(axes)):\n",
    "    fig.delaxes(axes[j])\n",
    "\n",
    "plt.tight_layout()\n",
    "plt.savefig('../plots/boxplot.png', dpi=300)"
   ]
  },
  {
   "cell_type": "markdown",
   "id": "2bdce4e6-251c-4bfb-8871-ada0e2819e44",
   "metadata": {},
   "source": [
    "#### Violin plot"
   ]
  },
  {
   "cell_type": "code",
   "execution_count": 32,
   "id": "4b089bbe-9598-4bbd-b7b6-ea10e73077a7",
   "metadata": {},
   "outputs": [],
   "source": [
    "fig, axes = plt.subplots(n_rows, n_cols, figsize=(20, 15))  # Adjust size of the plot grid\n",
    "axes = axes.flatten()  # Flatten the axes to easily index in the loop\n",
    "\n",
    "# Plot boxplots for each column in the grid\n",
    "for i, column in enumerate(X.columns):\n",
    "    sns.violinplot(x='Churn Value', y=column, data=df, ax=axes[i], hue='Churn Value', legend=False)\n",
    "    axes[i].set_title(f'{column} vs Churn Value')\n",
    "\n",
    "# Remove unused subplots if there are fewer plots than grid cells\n",
    "for j in range(i + 1, len(axes)):\n",
    "    fig.delaxes(axes[j])\n",
    "\n",
    "plt.tight_layout()\n",
    "plt.savefig('../plots/violin.png', dpi=300)"
   ]
  },
  {
   "cell_type": "markdown",
   "id": "25c8318b-0eab-42af-b50d-ac1b30a201b1",
   "metadata": {},
   "source": [
    "I organized these plots, removing unnecessary panels in `plots.key`."
   ]
  },
  {
   "cell_type": "markdown",
   "id": "53631028-a016-430e-96cc-0a6b231f82fd",
   "metadata": {},
   "source": [
    "# Sandbox"
   ]
  },
  {
   "cell_type": "code",
   "execution_count": 37,
   "id": "e542102a-b15a-4f6e-ba12-73338f535174",
   "metadata": {},
   "outputs": [
    {
     "data": {
      "text/plain": [
       "0.2653698707936959"
      ]
     },
     "execution_count": 37,
     "metadata": {},
     "output_type": "execute_result"
    }
   ],
   "source": [
    "len(churn)/len(df)"
   ]
  },
  {
   "cell_type": "code",
   "execution_count": 36,
   "id": "6857fffb-c9d7-466f-906b-50f92a799c8e",
   "metadata": {},
   "outputs": [
    {
     "data": {
      "text/plain": [
       "7043"
      ]
     },
     "execution_count": 36,
     "metadata": {},
     "output_type": "execute_result"
    }
   ],
   "source": [
    "len(df)"
   ]
  },
  {
   "cell_type": "code",
   "execution_count": null,
   "id": "e8515b8a-72c4-4d9e-9481-b164b6e83dfb",
   "metadata": {},
   "outputs": [],
   "source": []
  }
 ],
 "metadata": {
  "kernelspec": {
   "display_name": "Python 3 (ipykernel)",
   "language": "python",
   "name": "python3"
  },
  "language_info": {
   "codemirror_mode": {
    "name": "ipython",
    "version": 3
   },
   "file_extension": ".py",
   "mimetype": "text/x-python",
   "name": "python",
   "nbconvert_exporter": "python",
   "pygments_lexer": "ipython3",
   "version": "3.11.7"
  }
 },
 "nbformat": 4,
 "nbformat_minor": 5
}
